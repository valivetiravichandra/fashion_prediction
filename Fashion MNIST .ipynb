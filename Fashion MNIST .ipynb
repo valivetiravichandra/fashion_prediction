{
 "cells": [
  {
   "cell_type": "code",
   "execution_count": 3,
   "metadata": {},
   "outputs": [
    {
     "name": "stdout",
     "output_type": "stream",
     "text": [
      "Extracting input/data\\train-images-idx3-ubyte.gz\n",
      "Extracting input/data\\train-labels-idx1-ubyte.gz\n",
      "Extracting input/data\\t10k-images-idx3-ubyte.gz\n",
      "Extracting input/data\\t10k-labels-idx1-ubyte.gz\n"
     ]
    }
   ],
   "source": [
    "import numpy as np\n",
    "\n",
    "import matplotlib.pyplot as plt\n",
    "\n",
    "import seaborn as sns\n",
    "\n",
    "import tensorflow as tf\n",
    "\n",
    "from tensorflow.python.framework import ops\n",
    "\n",
    "from tensorflow.examples.tutorials.mnist import input_data\n",
    "# Import Fashion MNIST\n",
    "\n",
    "fashion_mnist = input_data.read_data_sets('input/data', one_hot=True)"
   ]
  },
  {
   "cell_type": "code",
   "execution_count": 5,
   "metadata": {},
   "outputs": [
    {
     "name": "stderr",
     "output_type": "stream",
     "text": [
      "Using TensorFlow backend.\n"
     ]
    }
   ],
   "source": [
    "from keras.models import Sequential\n",
    "from keras.layers import Dense,Flatten"
   ]
  },
  {
   "cell_type": "code",
   "execution_count": 4,
   "metadata": {},
   "outputs": [
    {
     "name": "stdout",
     "output_type": "stream",
     "text": [
      "Training set (images) shape: (55000, 784)\n",
      "Training set (labels) shape: (55000, 10)\n",
      "Test set (images) shape: (10000, 784)\n",
      "Test set (labels) shape: (10000, 10)\n"
     ]
    }
   ],
   "source": [
    "print(\"Training set (images) shape: {shape}\".format(shape=fashion_mnist.train.images.shape))\n",
    "print(\"Training set (labels) shape: {shape}\".format(shape=fashion_mnist.train.labels.shape))\n",
    "# Shapes of test set\n",
    "print(\"Test set (images) shape: {shape}\".format(shape=fashion_mnist.test.images.shape))\n",
    "print(\"Test set (labels) shape: {shape}\".format(shape=fashion_mnist.test.labels.shape))"
   ]
  },
  {
   "cell_type": "code",
   "execution_count": 12,
   "metadata": {},
   "outputs": [],
   "source": [
    "label_dict = {\n",
    " 0: 'T-shirt/top',\n",
    " 1: 'Trouser',\n",
    " 2: 'Pullover',\n",
    " 3: 'Dress',\n",
    " 4: 'Coat',\n",
    " 5: 'Sandal',\n",
    " 6: 'Shirt',\n",
    " 7: 'Sneaker',\n",
    " 8: 'Bag',\n",
    " 9: 'Ankle boot'\n",
    "}"
   ]
  },
  {
   "cell_type": "code",
   "execution_count": 15,
   "metadata": {},
   "outputs": [
    {
     "name": "stdout",
     "output_type": "stream",
     "text": [
      "y = 3 (Dress)\n"
     ]
    },
    {
     "data": {
      "image/png": "[encoded data removed]",
      "text/plain": [
       "<matplotlib.figure.Figure at 0x1b33516d9e8>"
      ]
     },
     "metadata": {},
     "output_type": "display_data"
    },
    {
     "name": "stdout",
     "output_type": "stream",
     "text": [
      "y = 7 (Sneaker)\n"
     ]
    },
    {
     "data": {
      "image/png": "[encoded data removed]",
      "text/plain": [
       "<matplotlib.figure.Figure at 0x1b3355449e8>"
      ]
     },
     "metadata": {},
     "output_type": "display_data"
    }
   ],
   "source": [
    "sample_1 = fashion_mnist.train.images[47].reshape(28,28)\n",
    "sample_label_1 = np.where(fashion_mnist.train.labels[47] == 1)[0][0]\n",
    "print(\"y = {label_index} ({label})\".format(label_index=sample_label_1, label=label_dict[sample_label_1]))\n",
    "plt.imshow(sample_1, cmap='Greys')\n",
    "plt.show()\n",
    "sample_2 = fashion_mnist.train.images[23].reshape(28,28)\n",
    "sample_label_2 = np.where(fashion_mnist.train.labels[23] == 1)[0][0]\n",
    "print(\"y = {label_index} ({label})\".format(label_index=sample_label_2, label=label_dict[sample_label_2]))\n",
    "plt.imshow(sample_2, cmap='Greys')\n",
    "\n",
    "plt.show()"
   ]
  },
  {
   "cell_type": "code",
   "execution_count": 16,
   "metadata": {},
   "outputs": [
    {
     "name": "stdout",
     "output_type": "stream",
     "text": [
      "Training matrix shape (55000, 784)\n",
      "Testing matrix shape (10000, 784)\n"
     ]
    }
   ],
   "source": [
    "X_train=fashion_mnist.train.images\n",
    "X_test=fashion_mnist.test.images\n",
    "X_train = X_train.astype('float32')\n",
    "X_test = X_test.astype('float32')\n",
    "X_train /= 255\n",
    "X_test /= 255\n",
    "print(\"Training matrix shape\", X_train.shape)\n",
    "print(\"Testing matrix shape\", X_test.shape)"
   ]
  },
  {
   "cell_type": "code",
   "execution_count": 47,
   "metadata": {},
   "outputs": [
    {
     "name": "stdout",
     "output_type": "stream",
     "text": [
      "_________________________________________________________________\n",
      "Layer (type)                 Output Shape              Param #   \n",
      "=================================================================\n",
      "dense_11 (Dense)             (None, 512)               401920    \n",
      "_________________________________________________________________\n",
      "activation_10 (Activation)   (None, 512)               0         \n",
      "_________________________________________________________________\n",
      "dropout_7 (Dropout)          (None, 512)               0         \n",
      "_________________________________________________________________\n",
      "dense_12 (Dense)             (None, 512)               262656    \n",
      "_________________________________________________________________\n",
      "activation_11 (Activation)   (None, 512)               0         \n",
      "_________________________________________________________________\n",
      "dropout_8 (Dropout)          (None, 512)               0         \n",
      "_________________________________________________________________\n",
      "dense_13 (Dense)             (None, 10)                5130      \n",
      "_________________________________________________________________\n",
      "activation_12 (Activation)   (None, 10)                0         \n",
      "=================================================================\n",
      "Total params: 669,706\n",
      "Trainable params: 669,706\n",
      "Non-trainable params: 0\n",
      "_________________________________________________________________\n"
     ]
    }
   ],
   "source": [
    "from keras.layers.core import Dense, Dropout, Activation\n",
    "from keras.utils import np_utils\n",
    "\n",
    "model = Sequential()\n",
    "model.add(Dense(512, input_shape=(784,)))\n",
    "model.add(Activation('relu')) \n",
    "model.add(Dropout(0.2))\n",
    "model.add(Dense(512))\n",
    "model.add(Activation('relu'))\n",
    "model.add(Dropout(0.2))\n",
    "model.add(Dense(10))\n",
    "model.add(Activation('softmax'))\n",
    "model.summary()"
   ]
  },
  {
   "cell_type": "code",
   "execution_count": 48,
   "metadata": {},
   "outputs": [
    {
     "name": "stdout",
     "output_type": "stream",
     "text": [
      "(55000, 10)\n",
      "(10000, 10)\n"
     ]
    }
   ],
   "source": [
    "y_train=fashion_mnist.train.labels\n",
    "print(y_train.shape)\n",
    "y_test=fashion_mnist.test.labels\n",
    "print(y_test.shape)"
   ]
  },
  {
   "cell_type": "code",
   "execution_count": 34,
   "metadata": {},
   "outputs": [
    {
     "name": "stdout",
     "output_type": "stream",
     "text": [
      "Epoch 1/20\n",
      "55000/55000 [==============================] - 11s - loss: 0.3419 - acc: 0.8738    \n",
      "Epoch 2/20\n",
      "55000/55000 [==============================] - 11s - loss: 0.3311 - acc: 0.8793    \n",
      "Epoch 3/20\n",
      "55000/55000 [==============================] - 11s - loss: 0.3245 - acc: 0.8803    \n",
      "Epoch 4/20\n",
      "55000/55000 [==============================] - 13s - loss: 0.3181 - acc: 0.8833    \n",
      "Epoch 5/20\n",
      "55000/55000 [==============================] - 12s - loss: 0.3125 - acc: 0.8849    \n",
      "Epoch 6/20\n",
      "55000/55000 [==============================] - 12s - loss: 0.3069 - acc: 0.8881    \n",
      "Epoch 7/20\n",
      "55000/55000 [==============================] - 13s - loss: 0.2998 - acc: 0.8892    \n",
      "Epoch 8/20\n",
      "55000/55000 [==============================] - 12s - loss: 0.2958 - acc: 0.8892    \n",
      "Epoch 9/20\n",
      "55000/55000 [==============================] - 13s - loss: 0.2922 - acc: 0.8921    \n",
      "Epoch 10/20\n",
      "55000/55000 [==============================] - 12s - loss: 0.2866 - acc: 0.8943    \n",
      "Epoch 11/20\n",
      "55000/55000 [==============================] - 13s - loss: 0.2820 - acc: 0.8967    \n",
      "Epoch 12/20\n",
      "55000/55000 [==============================] - 11s - loss: 0.2794 - acc: 0.8975    \n",
      "Epoch 13/20\n",
      "55000/55000 [==============================] - 13s - loss: 0.2750 - acc: 0.8983    \n",
      "Epoch 14/20\n",
      "55000/55000 [==============================] - 11s - loss: 0.2720 - acc: 0.8999    \n",
      "Epoch 15/20\n",
      "55000/55000 [==============================] - 13s - loss: 0.2678 - acc: 0.9009    \n",
      "Epoch 16/20\n",
      "55000/55000 [==============================] - 11s - loss: 0.2650 - acc: 0.9019    - ETA: 1s - l\n",
      "Epoch 17/20\n",
      "55000/55000 [==============================] - 12s - loss: 0.2619 - acc: 0.9030    \n",
      "Epoch 18/20\n",
      "55000/55000 [==============================] - 11s - loss: 0.2584 - acc: 0.9046    \n",
      "Epoch 19/20\n",
      "55000/55000 [==============================] - 11s - loss: 0.2561 - acc: 0.9055    \n",
      "Epoch 20/20\n",
      "55000/55000 [==============================] - 13s - loss: 0.2515 - acc: 0.9057    \n"
     ]
    },
    {
     "data": {
      "text/plain": [
       "<keras.callbacks.History at 0x1b335426a90>"
      ]
     },
     "execution_count": 34,
     "metadata": {},
     "output_type": "execute_result"
    }
   ],
   "source": [
    "model.compile(optimizer='rmsprop',loss='categorical_crossentropy',metrics=['accuracy'])\n",
    "model.fit(X_train,y_train,epochs=20,batch_size=128)"
   ]
  },
  {
   "cell_type": "code",
   "execution_count": 35,
   "metadata": {},
   "outputs": [
    {
     "name": "stdout",
     "output_type": "stream",
     "text": [
      "Test score: 0.3376146227\n",
      "Test accuracy: 0.8851\n"
     ]
    }
   ],
   "source": [
    "score = model.evaluate(X_test, y_test, verbose=0)\n",
    "print('Test score:', score[0])\n",
    "print('Test accuracy:', score[1])"
   ]
  },
  {
   "cell_type": "code",
   "execution_count": 50,
   "metadata": {},
   "outputs": [
    {
     "name": "stdout",
     "output_type": "stream",
     "text": [
      "Train on 44000 samples, validate on 11000 samples\n",
      "Epoch 1/10\n",
      "9s - loss: 1.0232 - acc: 0.6242 - val_loss: 0.6565 - val_acc: 0.7540\n",
      "Epoch 2/10\n",
      "8s - loss: 0.6245 - acc: 0.7660 - val_loss: 0.5577 - val_acc: 0.7955\n",
      "Epoch 3/10\n",
      "8s - loss: 0.5424 - acc: 0.8033 - val_loss: 0.5062 - val_acc: 0.8127\n",
      "Epoch 4/10\n",
      "8s - loss: 0.4939 - acc: 0.8212 - val_loss: 0.4950 - val_acc: 0.8176\n",
      "Epoch 5/10\n",
      "8s - loss: 0.4595 - acc: 0.8324 - val_loss: 0.4490 - val_acc: 0.8321\n",
      "Epoch 6/10\n",
      "8s - loss: 0.4332 - acc: 0.8415 - val_loss: 0.4159 - val_acc: 0.8479\n",
      "Epoch 7/10\n",
      "9s - loss: 0.4147 - acc: 0.8493 - val_loss: 0.4156 - val_acc: 0.8505\n",
      "Epoch 8/10\n",
      "9s - loss: 0.4000 - acc: 0.8535 - val_loss: 0.3936 - val_acc: 0.8576\n",
      "Epoch 9/10\n",
      "8s - loss: 0.3861 - acc: 0.8590 - val_loss: 0.4015 - val_acc: 0.8560\n",
      "Epoch 10/10\n",
      "8s - loss: 0.3728 - acc: 0.8645 - val_loss: 0.3815 - val_acc: 0.8623\n",
      "Model took 89.11 seconds to train\n"
     ]
    }
   ],
   "source": [
    "import time\n",
    "start = time.time()\n",
    "model.compile(optimizer='rmsprop',loss='categorical_crossentropy',metrics=['accuracy'])\n",
    "model_info = model.fit(X_train, y_train, batch_size=128,epochs=10, verbose=2,validation_split=0.2)\n",
    "end = time.time()\n",
    "print(\"Model took %0.2f seconds to train\"%(end - start))"
   ]
  },
  {
   "cell_type": "code",
   "execution_count": 51,
   "metadata": {},
   "outputs": [
    {
     "data": {
      "image/png": "[encoded data removed]",
      "text/plain": [
       "<matplotlib.figure.Figure at 0x1b3405f85c0>"
      ]
     },
     "metadata": {},
     "output_type": "display_data"
    }
   ],
   "source": [
    "def plot_model_history(model_history):\n",
    "    fig, axs = plt.subplots(1,2,figsize=(15,5))\n",
    "    # summarize history for accuracy\n",
    "    axs[0].plot(range(1,len(model_history.history['acc'])+1),model_history.history['acc'])\n",
    "    axs[0].plot(range(1,len(model_history.history['val_acc'])+1),model_history.history['val_acc'])\n",
    "    axs[0].set_title('Model Accuracy')\n",
    "    axs[0].set_ylabel('Accuracy')\n",
    "    axs[0].set_xlabel('Epoch')\n",
    "    axs[0].set_xticks(np.arange(1,len(model_history.history['acc'])+1),len(model_history.history['acc'])/10)\n",
    "    axs[0].legend(['train', 'val'], loc='best')\n",
    "    # summarize history for loss\n",
    "    axs[1].plot(range(1,len(model_history.history['loss'])+1),model_history.history['loss'])\n",
    "    axs[1].plot(range(1,len(model_history.history['val_loss'])+1),model_history.history['val_loss'])\n",
    "    axs[1].set_title('Model Loss')\n",
    "    axs[1].set_ylabel('Loss')\n",
    "    axs[1].set_xlabel('Epoch')\n",
    "    axs[1].set_xticks(np.arange(1,len(model_history.history['loss'])+1),len(model_history.history['loss'])/10)\n",
    "    axs[1].legend(['train', 'val'], loc='best')\n",
    "    plt.show()\n",
    "plot_model_history(model_info)"
   ]
  },
  {
   "cell_type": "code",
   "execution_count": 52,
   "metadata": {},
   "outputs": [
    {
     "name": "stdout",
     "output_type": "stream",
     "text": [
      "Test score: 0.403192398119\n",
      "Test accuracy: 0.8528\n"
     ]
    }
   ],
   "source": [
    "score = model.evaluate(X_test, y_test, verbose=0)\n",
    "print('Test score:', score[0])\n",
    "print('Test accuracy:', score[1])"
   ]
  },
  {
   "cell_type": "code",
   "execution_count": null,
   "metadata": {
    "collapsed": true
   },
   "outputs": [],
   "source": []
  }
 ],
 "metadata": {
  "kernelspec": {
   "display_name": "Python 3",
   "language": "python",
   "name": "python3"
  }
 },
 "nbformat": 4,
 "nbformat_minor": 2
}
